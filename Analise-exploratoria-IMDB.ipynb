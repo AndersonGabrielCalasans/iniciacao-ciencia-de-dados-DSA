{
 "cells": [
  {
   "cell_type": "markdown",
   "id": "74f6663d",
   "metadata": {},
   "source": [
    "# 📊 Análise Exploratória de Dados reais de filmes do IMDB  "
   ]
  },
  {
   "cell_type": "markdown",
   "id": "62a34a0c",
   "metadata": {},
   "source": [
    "Esse arquivo do Jupyter Notebook contempla o meu projeto realizado para apresentar uma análise exploratória de dados usando Linguagem Python, Linguagem SQL e Banco de Dados SQLite. Para tal usei dados reais disponíveis publicamente, dados sobre filmes no site [IMDB](https://www.imdb.com/?ref_=nv_home), que é um site de avaliação e classificação de filmes, séries e programas de TV.\n",
    "\n",
    "Aqui nesse notebook, irei explicar o passo a passo utilizado para responder às perguntas indicadas no [arquivo README]() do diretório principal **README - substituir depois**, que foram:\n",
    "\n",
    "- 1- Quais São as Categorias de Filmes Mais Comuns no IMDB?\n",
    "- 2- Qual o Número de Títulos Por Gênero?\n",
    "- 3- Qual a Mediana de Avaliação dos Filmes Por Gênero?\n",
    "- 4- Qual a Mediana de Avaliação dos Filmes Em Relação ao Ano de Estréia?\n",
    "- 5- Qual o Número de Filmes Avaliados Por Gênero Em Relação ao Ano de Estréia?\n",
    "- 6- Qual o Filme Com Maior Tempo de Duração? Calcule os Percentis.\n",
    "- 7- Qual a Relação Entre Duração e Gênero?\n",
    "- 8- Qual o Número de Filmes Produzidos Por País?\n",
    "- 9- Quais São os Top 10 Melhores Filmes?\n",
    "- 10- Quais São os Top 10 Piores Filmes?"
   ]
  },
  {
   "cell_type": "markdown",
   "id": "fec8ec97",
   "metadata": {},
   "source": [
    "## Instalando e Carregando Pacotes - preparando o ambiente\n",
    "\n",
    "A **versão do Jupyter Python** que foi testada e aplicada o projeto a seguir foi **3.9.12**."
   ]
  },
  {
   "cell_type": "code",
   "execution_count": 1,
   "id": "79c27242",
   "metadata": {},
   "outputs": [
    {
     "name": "stdout",
     "output_type": "stream",
     "text": [
      "Versão da Linguagem Python Usada Neste Jupyter Notebook: 3.9.12\n"
     ]
    }
   ],
   "source": [
    "# Versão da Linguagem Python\n",
    "from platform import python_version\n",
    "print('Versão da Linguagem Python Usada Neste Jupyter Notebook:', python_version())"
   ]
  },
  {
   "cell_type": "markdown",
   "id": "b9bb9c15",
   "metadata": {},
   "source": [
    "### Bibliotecas e pacotes utilizados\n",
    "\n",
    "Para realizar a leitura e acesso ao banco de dados do IMDB, que foram baixados [nesse link](https://www.imdb.com/interfaces/) no dia 08/09/2022, irei utilizar a biblioteca Python **imdb-sqlite**, na versão 0.1.3, que está disponível no site da [PyPI](https://pypi.org/). Essa biblioteca importa arquivos IMDB TSV para um banco de dados SQLite e será fundamental para facilitar o tratamento e extruturação desses dados. A biblioteca citada, está disponível no link: [imdb-sqlite](https://pypi.org/project/imdb-sqlite/). "
   ]
  },
  {
   "cell_type": "code",
   "execution_count": 4,
   "id": "dfc6f87f",
   "metadata": {},
   "outputs": [],
   "source": [
    "# Instala o pacote imdb-sqlite no Jupyter Notebook:\n",
    "!pip install -q imdb-sqlite"
   ]
  },
  {
   "cell_type": "markdown",
   "id": "391c51b6",
   "metadata": {},
   "source": [
    "Além do imdb-sqlite, realizaremos a instalação de outra biblioteca que ainda não tinha utilizado, a **pycountry**, na versão 22.3.5, também disponivel no PyPI [neste link](https://pypi.org/project/pycountry/), que fornece os bancos de dados ISO para os padrões de nomes de: países, idiomas e moedas, principalmente e será interessante para nós acessarmos o nome dos países de forma mais rápida, sem precisar realizar nenhuma conversão manual. "
   ]
  },
  {
   "cell_type": "code",
   "execution_count": 5,
   "id": "94768fba",
   "metadata": {},
   "outputs": [],
   "source": [
    "# Instala o pacote pycountry no Jupyter Notebook:\n",
    "!pip install -q pycountry"
   ]
  },
  {
   "cell_type": "markdown",
   "id": "d42489da",
   "metadata": {},
   "source": [
    "Os demais pacotes e bibliotecas utilizados nesse projeto, já foram antes utilizados por mim ou já vieram instalados com o pacote do anaconda Python, um resumo sobre a utilização de cada uma delas está disponível no README principal desse diretório."
   ]
  },
  {
   "cell_type": "code",
   "execution_count": 6,
   "id": "79372916",
   "metadata": {},
   "outputs": [],
   "source": [
    "# Imports\n",
    "import re\n",
    "import time\n",
    "import sqlite3\n",
    "import pycountry\n",
    "import numpy as np\n",
    "import pandas as pd\n",
    "import matplotlib.pyplot as plt\n",
    "import seaborn as sns\n",
    "from matplotlib import cm\n",
    "from sklearn.feature_extraction.text import CountVectorizer\n",
    "import warnings\n",
    "warnings.filterwarnings(\"ignore\")\n",
    "sns.set_theme(style = \"whitegrid\")"
   ]
  },
  {
   "cell_type": "code",
   "execution_count": null,
   "id": "b1465fbc",
   "metadata": {},
   "outputs": [],
   "source": []
  }
 ],
 "metadata": {
  "kernelspec": {
   "display_name": "Python 3 (ipykernel)",
   "language": "python",
   "name": "python3"
  },
  "language_info": {
   "codemirror_mode": {
    "name": "ipython",
    "version": 3
   },
   "file_extension": ".py",
   "mimetype": "text/x-python",
   "name": "python",
   "nbconvert_exporter": "python",
   "pygments_lexer": "ipython3",
   "version": "3.9.12"
  }
 },
 "nbformat": 4,
 "nbformat_minor": 5
}
