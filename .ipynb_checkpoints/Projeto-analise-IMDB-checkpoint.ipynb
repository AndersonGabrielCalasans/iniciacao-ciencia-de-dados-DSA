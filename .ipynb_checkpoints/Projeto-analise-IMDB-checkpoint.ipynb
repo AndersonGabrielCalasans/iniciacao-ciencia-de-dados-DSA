{
 "cells": [
  {
   "cell_type": "markdown",
   "id": "6d73588b",
   "metadata": {},
   "source": [
    "# Análise Exploratória de Dados com Python e Linguagem SQL\n",
    "\n",
    "### Comentários: \n",
    " - Resolvi utilizar o Jupyter Notebook ao invés de uma IDE por me dar uma liberdade maior em relação a execução das linhas de códigos de forma celular, facilitando o processo de amostragem/análise dos dados."
   ]
  },
  {
   "cell_type": "markdown",
   "id": "ed76e0ef",
   "metadata": {},
   "source": [
    "### Preparação dos dados:\n",
    "\n",
    "Antes de realizar a análise propriamente dita é preciso localizar o banco de dados e fazer o tratamento das informação para que fique claro quais as informações com as quais estamos trabalhando."
   ]
  },
  {
   "cell_type": "code",
   "execution_count": 1,
   "id": "f9dec45c",
   "metadata": {},
   "outputs": [],
   "source": [
    "# Imports\n",
    "import re\n",
    "import time\n",
    "import sqlite3\n",
    "import pycountry\n",
    "import numpy as np\n",
    "import pandas as pd\n",
    "import matplotlib.pyplot as plt\n",
    "import seaborn as sns\n",
    "from matplotlib import cm\n",
    "from sklearn.feature_extraction.text import CountVectorizer\n",
    "import warnings\n",
    "warnings.filterwarnings(\"ignore\")\n",
    "sns.set_theme(style = \"whitegrid\")"
   ]
  },
  {
   "cell_type": "code",
   "execution_count": 2,
   "id": "df4cc5a6",
   "metadata": {},
   "outputs": [],
   "source": [
    "# Conecta com banco de dados imdb:\n",
    "conn = sqlite3.connect(\"imdb.db\")"
   ]
  },
  {
   "cell_type": "code",
   "execution_count": 3,
   "id": "c63c697a",
   "metadata": {},
   "outputs": [],
   "source": [
    "# Extrai a lista de tabelas:\n",
    "tabelas = pd.read_sql_query(\"SELECT NAME AS 'Table_Name' FROM sqlite_master WHERE type = 'table'\", conn)"
   ]
  },
  {
   "cell_type": "code",
   "execution_count": 4,
   "id": "5f27a802",
   "metadata": {},
   "outputs": [
    {
     "name": "stdout",
     "output_type": "stream",
     "text": [
      "  Table_Name\n",
      "0     people\n",
      "1     titles\n",
      "2       akas\n",
      "3       crew\n",
      "4   episodes\n"
     ]
    }
   ],
   "source": [
    "# Visualiza o head:\n",
    "print(tabelas.head())"
   ]
  },
  {
   "cell_type": "code",
   "execution_count": 5,
   "id": "e1406bc4",
   "metadata": {},
   "outputs": [],
   "source": [
    "# Converte o dataframe em lista:\n",
    "tabelas = tabelas[\"Table_Name\"].values.tolist()"
   ]
  },
  {
   "cell_type": "code",
   "execution_count": 6,
   "id": "2968d5d1",
   "metadata": {},
   "outputs": [
    {
     "name": "stdout",
     "output_type": "stream",
     "text": [
      "Esquema da tabela: people\n",
      "   cid       name     type  notnull dflt_value  pk\n",
      "0    0  person_id  VARCHAR        0       None   1\n",
      "1    1       name  VARCHAR        0       None   0\n",
      "2    2       born  INTEGER        0       None   0\n",
      "3    3       died  INTEGER        0       None   0\n",
      "----------------------------------------------------------------------------------------------------\n",
      "\n",
      "\n",
      "Esquema da tabela: titles\n",
      "   cid            name     type  notnull dflt_value  pk\n",
      "0    0        title_id  VARCHAR        0       None   1\n",
      "1    1            type  VARCHAR        0       None   0\n",
      "2    2   primary_title  VARCHAR        0       None   0\n",
      "3    3  original_title  VARCHAR        0       None   0\n",
      "4    4        is_adult  INTEGER        0       None   0\n",
      "----------------------------------------------------------------------------------------------------\n",
      "\n",
      "\n",
      "Esquema da tabela: akas\n",
      "   cid      name     type  notnull dflt_value  pk\n",
      "0    0  title_id  VARCHAR        0       None   0\n",
      "1    1     title  VARCHAR        0       None   0\n",
      "2    2    region  VARCHAR        0       None   0\n",
      "3    3  language  VARCHAR        0       None   0\n",
      "4    4     types  VARCHAR        0       None   0\n",
      "----------------------------------------------------------------------------------------------------\n",
      "\n",
      "\n",
      "Esquema da tabela: crew\n",
      "   cid        name     type  notnull dflt_value  pk\n",
      "0    0    title_id  VARCHAR        0       None   0\n",
      "1    1   person_id  VARCHAR        0       None   0\n",
      "2    2    category  VARCHAR        0       None   0\n",
      "3    3         job  VARCHAR        0       None   0\n",
      "4    4  characters  VARCHAR        0       None   0\n",
      "----------------------------------------------------------------------------------------------------\n",
      "\n",
      "\n",
      "Esquema da tabela: episodes\n",
      "   cid              name     type  notnull dflt_value  pk\n",
      "0    0  episode_title_id  INTEGER        0       None   0\n",
      "1    1     show_title_id  INTEGER        0       None   0\n",
      "2    2     season_number  INTEGER        0       None   0\n",
      "3    3    eposide_number  INTEGER        0       None   0\n",
      "----------------------------------------------------------------------------------------------------\n",
      "\n",
      "\n",
      "Esquema da tabela: ratings\n",
      "   cid      name     type  notnull dflt_value  pk\n",
      "0    0  title_id  VARCHAR        0       None   1\n",
      "1    1    rating  INTEGER        0       None   0\n",
      "2    2     votes  INTEGER        0       None   0\n",
      "----------------------------------------------------------------------------------------------------\n",
      "\n",
      "\n"
     ]
    }
   ],
   "source": [
    "# Percorre a lista de tabelas do BD e extrai o esquema de cada uma:\n",
    "for tabela in tabelas:\n",
    "    consulta = \"PRAGMA TABLE_INFO({})\".format(tabela)\n",
    "    resultado = pd.read_sql_query(consulta, conn)\n",
    "    print(\"Esquema da tabela:\", tabela)\n",
    "    print(resultado.head())\n",
    "    print(\"-\" * 100)\n",
    "    print(\"\\n\")"
   ]
  },
  {
   "cell_type": "markdown",
   "id": "34519fe3",
   "metadata": {},
   "source": [
    "### Agora começaremos a responder as perguntas proposta no READEME\n",
    "\n",
    "#### 1- Quais São as Categorias de Filmes Mais Comuns no IMDB?\n",
    "Cada filme no IMDB está associado à uma categoria, iremos descobrir quais são os principais tipos (categorias) dos filmes (titles)."
   ]
  },
  {
   "cell_type": "code",
   "execution_count": 7,
   "id": "9f9a9543",
   "metadata": {},
   "outputs": [],
   "source": [
    "# Criando uma consulta SQL à fornte de dados\n",
    "consulta1 = '''SELECT type, COUNT(*) AS COUNT FROM titles GROUP BY type'''"
   ]
  },
  {
   "cell_type": "code",
   "execution_count": null,
   "id": "f6ca68dd",
   "metadata": {},
   "outputs": [],
   "source": []
  }
 ],
 "metadata": {
  "kernelspec": {
   "display_name": "Python 3 (ipykernel)",
   "language": "python",
   "name": "python3"
  },
  "language_info": {
   "codemirror_mode": {
    "name": "ipython",
    "version": 3
   },
   "file_extension": ".py",
   "mimetype": "text/x-python",
   "name": "python",
   "nbconvert_exporter": "python",
   "pygments_lexer": "ipython3",
   "version": "3.9.12"
  }
 },
 "nbformat": 4,
 "nbformat_minor": 5
}
