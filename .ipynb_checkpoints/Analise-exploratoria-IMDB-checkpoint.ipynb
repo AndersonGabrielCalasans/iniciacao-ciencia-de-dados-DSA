{
 "cells": [
  {
   "cell_type": "markdown",
   "id": "74f6663d",
   "metadata": {},
   "source": [
    "# 📊 Análise Exploratória de Dados reais de filmes do IMDB  "
   ]
  },
  {
   "cell_type": "markdown",
   "id": "62a34a0c",
   "metadata": {},
   "source": [
    "Esse arquivo do Jupyter Notebook contempla o meu projeto realizado para apresentar uma análise exploratória de dados usando Linguagem Python, Linguagem SQL e Banco de Dados SQLite. Para tal usei dados reais disponíveis publicamente, dados sobre filmes no site [IMDB](https://www.imdb.com/?ref_=nv_home), que é um site de avaliação e classificação de filmes, séries e programas de TV.\n",
    "\n",
    "Aqui nesse notebook, irei explicar o passo a passo utilizado para responder às perguntas indicadas no [arquivo README]() do diretório principal **README - substituir depois**, que foram:\n",
    "\n",
    "- 1- Quais São as Categorias de Filmes Mais Comuns no IMDB?\n",
    "- 2- Qual o Número de Títulos Por Gênero?\n",
    "- 3- Qual a Mediana de Avaliação dos Filmes Por Gênero?\n",
    "- 4- Qual a Mediana de Avaliação dos Filmes Em Relação ao Ano de Estréia?\n",
    "- 5- Qual o Número de Filmes Avaliados Por Gênero Em Relação ao Ano de Estréia?\n",
    "- 6- Qual o Filme Com Maior Tempo de Duração? Calcule os Percentis.\n",
    "- 7- Qual a Relação Entre Duração e Gênero?\n",
    "- 8- Qual o Número de Filmes Produzidos Por País?\n",
    "- 9- Quais São os Top 10 Melhores Filmes?\n",
    "- 10- Quais São os Top 10 Piores Filmes?"
   ]
  },
  {
   "cell_type": "markdown",
   "id": "fec8ec97",
   "metadata": {},
   "source": [
    "## Instalando e Carregando Pacotes - preparando o ambiente\n",
    "\n",
    "A **versão do Jupyter Python** que foi testada e aplicada o projeto a seguir foi **3.9.12**."
   ]
  },
  {
   "cell_type": "code",
   "execution_count": 1,
   "id": "79c27242",
   "metadata": {},
   "outputs": [
    {
     "name": "stdout",
     "output_type": "stream",
     "text": [
      "Versão da Linguagem Python Usada Neste Jupyter Notebook: 3.9.12\n"
     ]
    }
   ],
   "source": [
    "# Versão da Linguagem Python\n",
    "from platform import python_version\n",
    "print('Versão da Linguagem Python Usada Neste Jupyter Notebook:', python_version())"
   ]
  },
  {
   "cell_type": "markdown",
   "id": "b9bb9c15",
   "metadata": {},
   "source": [
    "### Bibliotecas e pacotes utilizados\n",
    "\n",
    "Para realizar a leitura e acesso ao banco de dados do IMDB, que foram baixados [nesse link](https://www.imdb.com/interfaces/) no dia 08/09/2022, irei utilizar a biblioteca Python **imdb-sqlite**, na versão 0.1.3, que está disponível no site da [PyPI](https://pypi.org/). Essa biblioteca importa arquivos IMDB TSV para um banco de dados SQLite e será fundamental para facilitar o tratamento e extruturação desses dados. A biblioteca citada, está disponível no link: [imdb-sqlite](https://pypi.org/project/imdb-sqlite/). "
   ]
  },
  {
   "cell_type": "code",
   "execution_count": 2,
   "id": "dfc6f87f",
   "metadata": {},
   "outputs": [],
   "source": [
    "# Instala o pacote imdb-sqlite no Jupyter Notebook:\n",
    "!pip install -q imdb-sqlite"
   ]
  },
  {
   "cell_type": "markdown",
   "id": "391c51b6",
   "metadata": {},
   "source": [
    "Além do imdb-sqlite, realizaremos a instalação de outra biblioteca que ainda não tinha utilizado, a **pycountry**, na versão 22.3.5, também disponivel no PyPI [neste link](https://pypi.org/project/pycountry/), que fornece os bancos de dados ISO para os padrões de nomes de: países, idiomas e moedas, principalmente e será interessante para nós acessarmos o nome dos países de forma mais rápida, sem precisar realizar nenhuma conversão manual. "
   ]
  },
  {
   "cell_type": "code",
   "execution_count": 3,
   "id": "94768fba",
   "metadata": {},
   "outputs": [],
   "source": [
    "# Instala o pacote pycountry no Jupyter Notebook:\n",
    "!pip install -q pycountry"
   ]
  },
  {
   "cell_type": "markdown",
   "id": "d42489da",
   "metadata": {},
   "source": [
    "Os demais pacotes e bibliotecas utilizados nesse projeto, já foram antes utilizados por mim ou já vieram instalados com o pacote do anaconda Python, um resumo sobre a utilização de cada uma delas está disponível no README principal desse diretório."
   ]
  },
  {
   "cell_type": "code",
   "execution_count": 4,
   "id": "79372916",
   "metadata": {},
   "outputs": [],
   "source": [
    "# Imports\n",
    "import re\n",
    "import time\n",
    "import sqlite3\n",
    "import pycountry\n",
    "import numpy as np\n",
    "import pandas as pd\n",
    "import matplotlib.pyplot as plt\n",
    "import seaborn as sns\n",
    "from matplotlib import cm\n",
    "from sklearn.feature_extraction.text import CountVectorizer\n",
    "import warnings\n",
    "warnings.filterwarnings(\"ignore\")\n",
    "sns.set_theme(style = \"whitegrid\")"
   ]
  },
  {
   "cell_type": "markdown",
   "id": "8e88df6b",
   "metadata": {},
   "source": [
    "### Carregando os Dados\n",
    "\n",
    "O primeiro passo após importar as bibliotecas que usaremos é baixar e carregar os dados para que possamos fazer a análise dos mesmos."
   ]
  },
  {
   "cell_type": "code",
   "execution_count": 5,
   "id": "0f50a8b8",
   "metadata": {},
   "outputs": [
    {
     "name": "stdout",
     "output_type": "stream",
     "text": [
      "CPU times: total: 0 ns\n",
      "Wall time: 317 ms\n"
     ]
    },
    {
     "name": "stderr",
     "output_type": "stream",
     "text": [
      "2022-09-20 18:54:23,449 DB already exists: (imdb.db). Refusing to modify. Exiting\n"
     ]
    }
   ],
   "source": [
    "%%time\n",
    "!imdb-sqlite"
   ]
  },
  {
   "cell_type": "code",
   "execution_count": 6,
   "id": "d7861b60",
   "metadata": {},
   "outputs": [],
   "source": [
    "# Conectando no banco de dados\n",
    "conn = sqlite3.connect(\"imdb.db\")"
   ]
  },
  {
   "cell_type": "code",
   "execution_count": 7,
   "id": "8e20040e",
   "metadata": {},
   "outputs": [],
   "source": [
    "# Extrai uma lista com as tabelas presentes no imdb.db\n",
    "tabelas = pd.read_sql_query(\"SELECT NAME AS 'Table_Name' FROM sqlite_master WHERE type = 'table'\", conn)"
   ]
  },
  {
   "cell_type": "code",
   "execution_count": 8,
   "id": "2d91dc9b",
   "metadata": {},
   "outputs": [
    {
     "data": {
      "text/plain": [
       "pandas.core.frame.DataFrame"
      ]
     },
     "execution_count": 8,
     "metadata": {},
     "output_type": "execute_result"
    }
   ],
   "source": [
    "#Verifica o tipo do objeto\n",
    "type(tabelas)"
   ]
  },
  {
   "cell_type": "code",
   "execution_count": 9,
   "id": "b39870f1",
   "metadata": {},
   "outputs": [
    {
     "name": "stdout",
     "output_type": "stream",
     "text": [
      "  Table_Name\n",
      "0     people\n",
      "1     titles\n",
      "2       akas\n",
      "3       crew\n",
      "4   episodes\n",
      "5    ratings\n"
     ]
    }
   ],
   "source": [
    "# Visualizando a lista com os nomes das tabelas do DB\n",
    "print(tabelas)"
   ]
  },
  {
   "cell_type": "code",
   "execution_count": 10,
   "id": "c47a3889",
   "metadata": {},
   "outputs": [],
   "source": [
    "# Convertendo o dataframe em uma lista\n",
    "tabelas = tabelas[\"Table_Name\"].values.tolist()"
   ]
  },
  {
   "cell_type": "code",
   "execution_count": 11,
   "id": "5084b921",
   "metadata": {},
   "outputs": [
    {
     "name": "stdout",
     "output_type": "stream",
     "text": [
      "Esquema da tabela people\n"
     ]
    },
    {
     "data": {
      "text/html": [
       "<div>\n",
       "<style scoped>\n",
       "    .dataframe tbody tr th:only-of-type {\n",
       "        vertical-align: middle;\n",
       "    }\n",
       "\n",
       "    .dataframe tbody tr th {\n",
       "        vertical-align: top;\n",
       "    }\n",
       "\n",
       "    .dataframe thead th {\n",
       "        text-align: right;\n",
       "    }\n",
       "</style>\n",
       "<table border=\"1\" class=\"dataframe\">\n",
       "  <thead>\n",
       "    <tr style=\"text-align: right;\">\n",
       "      <th></th>\n",
       "      <th>cid</th>\n",
       "      <th>name</th>\n",
       "      <th>type</th>\n",
       "      <th>notnull</th>\n",
       "      <th>dflt_value</th>\n",
       "      <th>pk</th>\n",
       "    </tr>\n",
       "  </thead>\n",
       "  <tbody>\n",
       "    <tr>\n",
       "      <th>0</th>\n",
       "      <td>0</td>\n",
       "      <td>person_id</td>\n",
       "      <td>VARCHAR</td>\n",
       "      <td>0</td>\n",
       "      <td>None</td>\n",
       "      <td>1</td>\n",
       "    </tr>\n",
       "    <tr>\n",
       "      <th>1</th>\n",
       "      <td>1</td>\n",
       "      <td>name</td>\n",
       "      <td>VARCHAR</td>\n",
       "      <td>0</td>\n",
       "      <td>None</td>\n",
       "      <td>0</td>\n",
       "    </tr>\n",
       "    <tr>\n",
       "      <th>2</th>\n",
       "      <td>2</td>\n",
       "      <td>born</td>\n",
       "      <td>INTEGER</td>\n",
       "      <td>0</td>\n",
       "      <td>None</td>\n",
       "      <td>0</td>\n",
       "    </tr>\n",
       "    <tr>\n",
       "      <th>3</th>\n",
       "      <td>3</td>\n",
       "      <td>died</td>\n",
       "      <td>INTEGER</td>\n",
       "      <td>0</td>\n",
       "      <td>None</td>\n",
       "      <td>0</td>\n",
       "    </tr>\n",
       "  </tbody>\n",
       "</table>\n",
       "</div>"
      ],
      "text/plain": [
       "   cid       name     type  notnull dflt_value  pk\n",
       "0    0  person_id  VARCHAR        0       None   1\n",
       "1    1       name  VARCHAR        0       None   0\n",
       "2    2       born  INTEGER        0       None   0\n",
       "3    3       died  INTEGER        0       None   0"
      ]
     },
     "metadata": {},
     "output_type": "display_data"
    },
    {
     "name": "stdout",
     "output_type": "stream",
     "text": [
      "----------------------------------------------------------------------------------------------------\n",
      "\n",
      "\n",
      "Esquema da tabela titles\n"
     ]
    },
    {
     "data": {
      "text/html": [
       "<div>\n",
       "<style scoped>\n",
       "    .dataframe tbody tr th:only-of-type {\n",
       "        vertical-align: middle;\n",
       "    }\n",
       "\n",
       "    .dataframe tbody tr th {\n",
       "        vertical-align: top;\n",
       "    }\n",
       "\n",
       "    .dataframe thead th {\n",
       "        text-align: right;\n",
       "    }\n",
       "</style>\n",
       "<table border=\"1\" class=\"dataframe\">\n",
       "  <thead>\n",
       "    <tr style=\"text-align: right;\">\n",
       "      <th></th>\n",
       "      <th>cid</th>\n",
       "      <th>name</th>\n",
       "      <th>type</th>\n",
       "      <th>notnull</th>\n",
       "      <th>dflt_value</th>\n",
       "      <th>pk</th>\n",
       "    </tr>\n",
       "  </thead>\n",
       "  <tbody>\n",
       "    <tr>\n",
       "      <th>0</th>\n",
       "      <td>0</td>\n",
       "      <td>title_id</td>\n",
       "      <td>VARCHAR</td>\n",
       "      <td>0</td>\n",
       "      <td>None</td>\n",
       "      <td>1</td>\n",
       "    </tr>\n",
       "    <tr>\n",
       "      <th>1</th>\n",
       "      <td>1</td>\n",
       "      <td>type</td>\n",
       "      <td>VARCHAR</td>\n",
       "      <td>0</td>\n",
       "      <td>None</td>\n",
       "      <td>0</td>\n",
       "    </tr>\n",
       "    <tr>\n",
       "      <th>2</th>\n",
       "      <td>2</td>\n",
       "      <td>primary_title</td>\n",
       "      <td>VARCHAR</td>\n",
       "      <td>0</td>\n",
       "      <td>None</td>\n",
       "      <td>0</td>\n",
       "    </tr>\n",
       "    <tr>\n",
       "      <th>3</th>\n",
       "      <td>3</td>\n",
       "      <td>original_title</td>\n",
       "      <td>VARCHAR</td>\n",
       "      <td>0</td>\n",
       "      <td>None</td>\n",
       "      <td>0</td>\n",
       "    </tr>\n",
       "    <tr>\n",
       "      <th>4</th>\n",
       "      <td>4</td>\n",
       "      <td>is_adult</td>\n",
       "      <td>INTEGER</td>\n",
       "      <td>0</td>\n",
       "      <td>None</td>\n",
       "      <td>0</td>\n",
       "    </tr>\n",
       "    <tr>\n",
       "      <th>5</th>\n",
       "      <td>5</td>\n",
       "      <td>premiered</td>\n",
       "      <td>INTEGER</td>\n",
       "      <td>0</td>\n",
       "      <td>None</td>\n",
       "      <td>0</td>\n",
       "    </tr>\n",
       "    <tr>\n",
       "      <th>6</th>\n",
       "      <td>6</td>\n",
       "      <td>ended</td>\n",
       "      <td>INTEGER</td>\n",
       "      <td>0</td>\n",
       "      <td>None</td>\n",
       "      <td>0</td>\n",
       "    </tr>\n",
       "    <tr>\n",
       "      <th>7</th>\n",
       "      <td>7</td>\n",
       "      <td>runtime_minutes</td>\n",
       "      <td>INTEGER</td>\n",
       "      <td>0</td>\n",
       "      <td>None</td>\n",
       "      <td>0</td>\n",
       "    </tr>\n",
       "    <tr>\n",
       "      <th>8</th>\n",
       "      <td>8</td>\n",
       "      <td>genres</td>\n",
       "      <td>VARCHAR</td>\n",
       "      <td>0</td>\n",
       "      <td>None</td>\n",
       "      <td>0</td>\n",
       "    </tr>\n",
       "  </tbody>\n",
       "</table>\n",
       "</div>"
      ],
      "text/plain": [
       "   cid             name     type  notnull dflt_value  pk\n",
       "0    0         title_id  VARCHAR        0       None   1\n",
       "1    1             type  VARCHAR        0       None   0\n",
       "2    2    primary_title  VARCHAR        0       None   0\n",
       "3    3   original_title  VARCHAR        0       None   0\n",
       "4    4         is_adult  INTEGER        0       None   0\n",
       "5    5        premiered  INTEGER        0       None   0\n",
       "6    6            ended  INTEGER        0       None   0\n",
       "7    7  runtime_minutes  INTEGER        0       None   0\n",
       "8    8           genres  VARCHAR        0       None   0"
      ]
     },
     "metadata": {},
     "output_type": "display_data"
    },
    {
     "name": "stdout",
     "output_type": "stream",
     "text": [
      "----------------------------------------------------------------------------------------------------\n",
      "\n",
      "\n",
      "Esquema da tabela akas\n"
     ]
    },
    {
     "data": {
      "text/html": [
       "<div>\n",
       "<style scoped>\n",
       "    .dataframe tbody tr th:only-of-type {\n",
       "        vertical-align: middle;\n",
       "    }\n",
       "\n",
       "    .dataframe tbody tr th {\n",
       "        vertical-align: top;\n",
       "    }\n",
       "\n",
       "    .dataframe thead th {\n",
       "        text-align: right;\n",
       "    }\n",
       "</style>\n",
       "<table border=\"1\" class=\"dataframe\">\n",
       "  <thead>\n",
       "    <tr style=\"text-align: right;\">\n",
       "      <th></th>\n",
       "      <th>cid</th>\n",
       "      <th>name</th>\n",
       "      <th>type</th>\n",
       "      <th>notnull</th>\n",
       "      <th>dflt_value</th>\n",
       "      <th>pk</th>\n",
       "    </tr>\n",
       "  </thead>\n",
       "  <tbody>\n",
       "    <tr>\n",
       "      <th>0</th>\n",
       "      <td>0</td>\n",
       "      <td>title_id</td>\n",
       "      <td>VARCHAR</td>\n",
       "      <td>0</td>\n",
       "      <td>None</td>\n",
       "      <td>0</td>\n",
       "    </tr>\n",
       "    <tr>\n",
       "      <th>1</th>\n",
       "      <td>1</td>\n",
       "      <td>title</td>\n",
       "      <td>VARCHAR</td>\n",
       "      <td>0</td>\n",
       "      <td>None</td>\n",
       "      <td>0</td>\n",
       "    </tr>\n",
       "    <tr>\n",
       "      <th>2</th>\n",
       "      <td>2</td>\n",
       "      <td>region</td>\n",
       "      <td>VARCHAR</td>\n",
       "      <td>0</td>\n",
       "      <td>None</td>\n",
       "      <td>0</td>\n",
       "    </tr>\n",
       "    <tr>\n",
       "      <th>3</th>\n",
       "      <td>3</td>\n",
       "      <td>language</td>\n",
       "      <td>VARCHAR</td>\n",
       "      <td>0</td>\n",
       "      <td>None</td>\n",
       "      <td>0</td>\n",
       "    </tr>\n",
       "    <tr>\n",
       "      <th>4</th>\n",
       "      <td>4</td>\n",
       "      <td>types</td>\n",
       "      <td>VARCHAR</td>\n",
       "      <td>0</td>\n",
       "      <td>None</td>\n",
       "      <td>0</td>\n",
       "    </tr>\n",
       "    <tr>\n",
       "      <th>5</th>\n",
       "      <td>5</td>\n",
       "      <td>attributes</td>\n",
       "      <td>VARCHAR</td>\n",
       "      <td>0</td>\n",
       "      <td>None</td>\n",
       "      <td>0</td>\n",
       "    </tr>\n",
       "    <tr>\n",
       "      <th>6</th>\n",
       "      <td>6</td>\n",
       "      <td>is_original_title</td>\n",
       "      <td>INTEGER</td>\n",
       "      <td>0</td>\n",
       "      <td>None</td>\n",
       "      <td>0</td>\n",
       "    </tr>\n",
       "  </tbody>\n",
       "</table>\n",
       "</div>"
      ],
      "text/plain": [
       "   cid               name     type  notnull dflt_value  pk\n",
       "0    0           title_id  VARCHAR        0       None   0\n",
       "1    1              title  VARCHAR        0       None   0\n",
       "2    2             region  VARCHAR        0       None   0\n",
       "3    3           language  VARCHAR        0       None   0\n",
       "4    4              types  VARCHAR        0       None   0\n",
       "5    5         attributes  VARCHAR        0       None   0\n",
       "6    6  is_original_title  INTEGER        0       None   0"
      ]
     },
     "metadata": {},
     "output_type": "display_data"
    },
    {
     "name": "stdout",
     "output_type": "stream",
     "text": [
      "----------------------------------------------------------------------------------------------------\n",
      "\n",
      "\n",
      "Esquema da tabela crew\n"
     ]
    },
    {
     "data": {
      "text/html": [
       "<div>\n",
       "<style scoped>\n",
       "    .dataframe tbody tr th:only-of-type {\n",
       "        vertical-align: middle;\n",
       "    }\n",
       "\n",
       "    .dataframe tbody tr th {\n",
       "        vertical-align: top;\n",
       "    }\n",
       "\n",
       "    .dataframe thead th {\n",
       "        text-align: right;\n",
       "    }\n",
       "</style>\n",
       "<table border=\"1\" class=\"dataframe\">\n",
       "  <thead>\n",
       "    <tr style=\"text-align: right;\">\n",
       "      <th></th>\n",
       "      <th>cid</th>\n",
       "      <th>name</th>\n",
       "      <th>type</th>\n",
       "      <th>notnull</th>\n",
       "      <th>dflt_value</th>\n",
       "      <th>pk</th>\n",
       "    </tr>\n",
       "  </thead>\n",
       "  <tbody>\n",
       "    <tr>\n",
       "      <th>0</th>\n",
       "      <td>0</td>\n",
       "      <td>title_id</td>\n",
       "      <td>VARCHAR</td>\n",
       "      <td>0</td>\n",
       "      <td>None</td>\n",
       "      <td>0</td>\n",
       "    </tr>\n",
       "    <tr>\n",
       "      <th>1</th>\n",
       "      <td>1</td>\n",
       "      <td>person_id</td>\n",
       "      <td>VARCHAR</td>\n",
       "      <td>0</td>\n",
       "      <td>None</td>\n",
       "      <td>0</td>\n",
       "    </tr>\n",
       "    <tr>\n",
       "      <th>2</th>\n",
       "      <td>2</td>\n",
       "      <td>category</td>\n",
       "      <td>VARCHAR</td>\n",
       "      <td>0</td>\n",
       "      <td>None</td>\n",
       "      <td>0</td>\n",
       "    </tr>\n",
       "    <tr>\n",
       "      <th>3</th>\n",
       "      <td>3</td>\n",
       "      <td>job</td>\n",
       "      <td>VARCHAR</td>\n",
       "      <td>0</td>\n",
       "      <td>None</td>\n",
       "      <td>0</td>\n",
       "    </tr>\n",
       "    <tr>\n",
       "      <th>4</th>\n",
       "      <td>4</td>\n",
       "      <td>characters</td>\n",
       "      <td>VARCHAR</td>\n",
       "      <td>0</td>\n",
       "      <td>None</td>\n",
       "      <td>0</td>\n",
       "    </tr>\n",
       "  </tbody>\n",
       "</table>\n",
       "</div>"
      ],
      "text/plain": [
       "   cid        name     type  notnull dflt_value  pk\n",
       "0    0    title_id  VARCHAR        0       None   0\n",
       "1    1   person_id  VARCHAR        0       None   0\n",
       "2    2    category  VARCHAR        0       None   0\n",
       "3    3         job  VARCHAR        0       None   0\n",
       "4    4  characters  VARCHAR        0       None   0"
      ]
     },
     "metadata": {},
     "output_type": "display_data"
    },
    {
     "name": "stdout",
     "output_type": "stream",
     "text": [
      "----------------------------------------------------------------------------------------------------\n",
      "\n",
      "\n",
      "Esquema da tabela episodes\n"
     ]
    },
    {
     "data": {
      "text/html": [
       "<div>\n",
       "<style scoped>\n",
       "    .dataframe tbody tr th:only-of-type {\n",
       "        vertical-align: middle;\n",
       "    }\n",
       "\n",
       "    .dataframe tbody tr th {\n",
       "        vertical-align: top;\n",
       "    }\n",
       "\n",
       "    .dataframe thead th {\n",
       "        text-align: right;\n",
       "    }\n",
       "</style>\n",
       "<table border=\"1\" class=\"dataframe\">\n",
       "  <thead>\n",
       "    <tr style=\"text-align: right;\">\n",
       "      <th></th>\n",
       "      <th>cid</th>\n",
       "      <th>name</th>\n",
       "      <th>type</th>\n",
       "      <th>notnull</th>\n",
       "      <th>dflt_value</th>\n",
       "      <th>pk</th>\n",
       "    </tr>\n",
       "  </thead>\n",
       "  <tbody>\n",
       "    <tr>\n",
       "      <th>0</th>\n",
       "      <td>0</td>\n",
       "      <td>episode_title_id</td>\n",
       "      <td>INTEGER</td>\n",
       "      <td>0</td>\n",
       "      <td>None</td>\n",
       "      <td>0</td>\n",
       "    </tr>\n",
       "    <tr>\n",
       "      <th>1</th>\n",
       "      <td>1</td>\n",
       "      <td>show_title_id</td>\n",
       "      <td>INTEGER</td>\n",
       "      <td>0</td>\n",
       "      <td>None</td>\n",
       "      <td>0</td>\n",
       "    </tr>\n",
       "    <tr>\n",
       "      <th>2</th>\n",
       "      <td>2</td>\n",
       "      <td>season_number</td>\n",
       "      <td>INTEGER</td>\n",
       "      <td>0</td>\n",
       "      <td>None</td>\n",
       "      <td>0</td>\n",
       "    </tr>\n",
       "    <tr>\n",
       "      <th>3</th>\n",
       "      <td>3</td>\n",
       "      <td>eposide_number</td>\n",
       "      <td>INTEGER</td>\n",
       "      <td>0</td>\n",
       "      <td>None</td>\n",
       "      <td>0</td>\n",
       "    </tr>\n",
       "  </tbody>\n",
       "</table>\n",
       "</div>"
      ],
      "text/plain": [
       "   cid              name     type  notnull dflt_value  pk\n",
       "0    0  episode_title_id  INTEGER        0       None   0\n",
       "1    1     show_title_id  INTEGER        0       None   0\n",
       "2    2     season_number  INTEGER        0       None   0\n",
       "3    3    eposide_number  INTEGER        0       None   0"
      ]
     },
     "metadata": {},
     "output_type": "display_data"
    },
    {
     "name": "stdout",
     "output_type": "stream",
     "text": [
      "----------------------------------------------------------------------------------------------------\n",
      "\n",
      "\n",
      "Esquema da tabela ratings\n"
     ]
    },
    {
     "data": {
      "text/html": [
       "<div>\n",
       "<style scoped>\n",
       "    .dataframe tbody tr th:only-of-type {\n",
       "        vertical-align: middle;\n",
       "    }\n",
       "\n",
       "    .dataframe tbody tr th {\n",
       "        vertical-align: top;\n",
       "    }\n",
       "\n",
       "    .dataframe thead th {\n",
       "        text-align: right;\n",
       "    }\n",
       "</style>\n",
       "<table border=\"1\" class=\"dataframe\">\n",
       "  <thead>\n",
       "    <tr style=\"text-align: right;\">\n",
       "      <th></th>\n",
       "      <th>cid</th>\n",
       "      <th>name</th>\n",
       "      <th>type</th>\n",
       "      <th>notnull</th>\n",
       "      <th>dflt_value</th>\n",
       "      <th>pk</th>\n",
       "    </tr>\n",
       "  </thead>\n",
       "  <tbody>\n",
       "    <tr>\n",
       "      <th>0</th>\n",
       "      <td>0</td>\n",
       "      <td>title_id</td>\n",
       "      <td>VARCHAR</td>\n",
       "      <td>0</td>\n",
       "      <td>None</td>\n",
       "      <td>1</td>\n",
       "    </tr>\n",
       "    <tr>\n",
       "      <th>1</th>\n",
       "      <td>1</td>\n",
       "      <td>rating</td>\n",
       "      <td>INTEGER</td>\n",
       "      <td>0</td>\n",
       "      <td>None</td>\n",
       "      <td>0</td>\n",
       "    </tr>\n",
       "    <tr>\n",
       "      <th>2</th>\n",
       "      <td>2</td>\n",
       "      <td>votes</td>\n",
       "      <td>INTEGER</td>\n",
       "      <td>0</td>\n",
       "      <td>None</td>\n",
       "      <td>0</td>\n",
       "    </tr>\n",
       "  </tbody>\n",
       "</table>\n",
       "</div>"
      ],
      "text/plain": [
       "   cid      name     type  notnull dflt_value  pk\n",
       "0    0  title_id  VARCHAR        0       None   1\n",
       "1    1    rating  INTEGER        0       None   0\n",
       "2    2     votes  INTEGER        0       None   0"
      ]
     },
     "metadata": {},
     "output_type": "display_data"
    },
    {
     "name": "stdout",
     "output_type": "stream",
     "text": [
      "----------------------------------------------------------------------------------------------------\n",
      "\n",
      "\n"
     ]
    }
   ],
   "source": [
    "# Gerando um loop que percorre a lista de tabelas do banco de dados e extrai o schema de cada uma\n",
    "for tabela in tabelas:\n",
    "    consulta = \"PRAGMA TABLE_INFO({})\".format(tabela)\n",
    "    resultado = pd.read_sql_query(consulta, conn)\n",
    "    print(\"Esquema da tabela\", tabela)\n",
    "    display(resultado)\n",
    "    print(\"-\"*100)\n",
    "    print(\"\\n\")"
   ]
  },
  {
   "cell_type": "markdown",
   "id": "9c19ddb4",
   "metadata": {},
   "source": [
    "Com base nas informações obtidas podemos observar o schema de tada tabela e o tipo de dado que cada instância vai receber, além de informações como: se a variável pode ser instanciada com valor nulo e se ela é uma chave primária ou não, o que vai nos fornecer o necessário para realizarmos nossa análise."
   ]
  },
  {
   "cell_type": "markdown",
   "id": "ad87c957",
   "metadata": {},
   "source": [
    "### Respondendo as perguntas e realizando a Análise Exploratória de Dados\n",
    "\n",
    "#### 1- Quais são as categorias de filmes mais comuns no IMDB?\n",
    "Desejamos saber quais são os principais tipos (categorias) dos títulos (filmes), vamos seguir o passo a diante "
   ]
  },
  {
   "cell_type": "code",
   "execution_count": 12,
   "id": "75e03c13",
   "metadata": {},
   "outputs": [],
   "source": [
    "# Cria a consulta SQL\n",
    "query_type_titles = '''SELECT type, COUNT(*) AS COUNT FROM titles GROUP BY type'''"
   ]
  },
  {
   "cell_type": "code",
   "execution_count": 13,
   "id": "b7f5ca86",
   "metadata": {},
   "outputs": [],
   "source": [
    "# Extrai o resultado\n",
    "result_type_titles = pd.read_sql_query(query_type_titles, conn)"
   ]
  },
  {
   "cell_type": "code",
   "execution_count": 14,
   "id": "4013efdd",
   "metadata": {},
   "outputs": [
    {
     "data": {
      "text/html": [
       "<div>\n",
       "<style scoped>\n",
       "    .dataframe tbody tr th:only-of-type {\n",
       "        vertical-align: middle;\n",
       "    }\n",
       "\n",
       "    .dataframe tbody tr th {\n",
       "        vertical-align: top;\n",
       "    }\n",
       "\n",
       "    .dataframe thead th {\n",
       "        text-align: right;\n",
       "    }\n",
       "</style>\n",
       "<table border=\"1\" class=\"dataframe\">\n",
       "  <thead>\n",
       "    <tr style=\"text-align: right;\">\n",
       "      <th></th>\n",
       "      <th>type</th>\n",
       "      <th>COUNT</th>\n",
       "    </tr>\n",
       "  </thead>\n",
       "  <tbody>\n",
       "    <tr>\n",
       "      <th>0</th>\n",
       "      <td>movie</td>\n",
       "      <td>619593</td>\n",
       "    </tr>\n",
       "    <tr>\n",
       "      <th>1</th>\n",
       "      <td>short</td>\n",
       "      <td>886148</td>\n",
       "    </tr>\n",
       "    <tr>\n",
       "      <th>2</th>\n",
       "      <td>tvEpisode</td>\n",
       "      <td>6920413</td>\n",
       "    </tr>\n",
       "    <tr>\n",
       "      <th>3</th>\n",
       "      <td>tvMiniSeries</td>\n",
       "      <td>44866</td>\n",
       "    </tr>\n",
       "    <tr>\n",
       "      <th>4</th>\n",
       "      <td>tvMovie</td>\n",
       "      <td>137301</td>\n",
       "    </tr>\n",
       "    <tr>\n",
       "      <th>5</th>\n",
       "      <td>tvPilot</td>\n",
       "      <td>2</td>\n",
       "    </tr>\n",
       "    <tr>\n",
       "      <th>6</th>\n",
       "      <td>tvSeries</td>\n",
       "      <td>230122</td>\n",
       "    </tr>\n",
       "    <tr>\n",
       "      <th>7</th>\n",
       "      <td>tvShort</td>\n",
       "      <td>10637</td>\n",
       "    </tr>\n",
       "    <tr>\n",
       "      <th>8</th>\n",
       "      <td>tvSpecial</td>\n",
       "      <td>38065</td>\n",
       "    </tr>\n",
       "    <tr>\n",
       "      <th>9</th>\n",
       "      <td>video</td>\n",
       "      <td>264553</td>\n",
       "    </tr>\n",
       "    <tr>\n",
       "      <th>10</th>\n",
       "      <td>videoGame</td>\n",
       "      <td>31949</td>\n",
       "    </tr>\n",
       "  </tbody>\n",
       "</table>\n",
       "</div>"
      ],
      "text/plain": [
       "            type    COUNT\n",
       "0          movie   619593\n",
       "1          short   886148\n",
       "2      tvEpisode  6920413\n",
       "3   tvMiniSeries    44866\n",
       "4        tvMovie   137301\n",
       "5        tvPilot        2\n",
       "6       tvSeries   230122\n",
       "7        tvShort    10637\n",
       "8      tvSpecial    38065\n",
       "9          video   264553\n",
       "10     videoGame    31949"
      ]
     },
     "metadata": {},
     "output_type": "display_data"
    }
   ],
   "source": [
    "# Visualiza o resultado\n",
    "display(result_type_titles)"
   ]
  },
  {
   "cell_type": "code",
   "execution_count": 15,
   "id": "c958d799",
   "metadata": {},
   "outputs": [
    {
     "data": {
      "text/html": [
       "<div>\n",
       "<style scoped>\n",
       "    .dataframe tbody tr th:only-of-type {\n",
       "        vertical-align: middle;\n",
       "    }\n",
       "\n",
       "    .dataframe tbody tr th {\n",
       "        vertical-align: top;\n",
       "    }\n",
       "\n",
       "    .dataframe thead th {\n",
       "        text-align: right;\n",
       "    }\n",
       "</style>\n",
       "<table border=\"1\" class=\"dataframe\">\n",
       "  <thead>\n",
       "    <tr style=\"text-align: right;\">\n",
       "      <th></th>\n",
       "      <th>type</th>\n",
       "      <th>COUNT</th>\n",
       "      <th>percentual</th>\n",
       "    </tr>\n",
       "  </thead>\n",
       "  <tbody>\n",
       "    <tr>\n",
       "      <th>0</th>\n",
       "      <td>movie</td>\n",
       "      <td>619593</td>\n",
       "      <td>6.746697</td>\n",
       "    </tr>\n",
       "    <tr>\n",
       "      <th>1</th>\n",
       "      <td>short</td>\n",
       "      <td>886148</td>\n",
       "      <td>9.649193</td>\n",
       "    </tr>\n",
       "    <tr>\n",
       "      <th>2</th>\n",
       "      <td>tvEpisode</td>\n",
       "      <td>6920413</td>\n",
       "      <td>75.355809</td>\n",
       "    </tr>\n",
       "    <tr>\n",
       "      <th>3</th>\n",
       "      <td>tvMiniSeries</td>\n",
       "      <td>44866</td>\n",
       "      <td>0.488542</td>\n",
       "    </tr>\n",
       "    <tr>\n",
       "      <th>4</th>\n",
       "      <td>tvMovie</td>\n",
       "      <td>137301</td>\n",
       "      <td>1.495059</td>\n",
       "    </tr>\n",
       "    <tr>\n",
       "      <th>5</th>\n",
       "      <td>tvPilot</td>\n",
       "      <td>2</td>\n",
       "      <td>0.000022</td>\n",
       "    </tr>\n",
       "    <tr>\n",
       "      <th>6</th>\n",
       "      <td>tvSeries</td>\n",
       "      <td>230122</td>\n",
       "      <td>2.505780</td>\n",
       "    </tr>\n",
       "    <tr>\n",
       "      <th>7</th>\n",
       "      <td>tvShort</td>\n",
       "      <td>10637</td>\n",
       "      <td>0.115825</td>\n",
       "    </tr>\n",
       "    <tr>\n",
       "      <th>8</th>\n",
       "      <td>tvSpecial</td>\n",
       "      <td>38065</td>\n",
       "      <td>0.414487</td>\n",
       "    </tr>\n",
       "    <tr>\n",
       "      <th>9</th>\n",
       "      <td>video</td>\n",
       "      <td>264553</td>\n",
       "      <td>2.880696</td>\n",
       "    </tr>\n",
       "    <tr>\n",
       "      <th>10</th>\n",
       "      <td>videoGame</td>\n",
       "      <td>31949</td>\n",
       "      <td>0.347890</td>\n",
       "    </tr>\n",
       "  </tbody>\n",
       "</table>\n",
       "</div>"
      ],
      "text/plain": [
       "            type    COUNT  percentual\n",
       "0          movie   619593    6.746697\n",
       "1          short   886148    9.649193\n",
       "2      tvEpisode  6920413   75.355809\n",
       "3   tvMiniSeries    44866    0.488542\n",
       "4        tvMovie   137301    1.495059\n",
       "5        tvPilot        2    0.000022\n",
       "6       tvSeries   230122    2.505780\n",
       "7        tvShort    10637    0.115825\n",
       "8      tvSpecial    38065    0.414487\n",
       "9          video   264553    2.880696\n",
       "10     videoGame    31949    0.347890"
      ]
     },
     "metadata": {},
     "output_type": "display_data"
    }
   ],
   "source": [
    "# Calculo percentual para cada type\n",
    "result_type_titles['percentual'] = (result_type_titles['COUNT'] / result_type_titles['COUNT'].sum())*100\n",
    "display(result_type_titles)"
   ]
  },
  {
   "cell_type": "markdown",
   "id": "2c184755",
   "metadata": {},
   "source": [
    "A partir dessa primeira análise gerada já podemos imaginar o por quê do type ***tvEpisode*** ser o predominante, pois o mesmo título têm vários episódios.\n",
    "Para facilitar a visualização irei criar um **gráfico** com apenas **4 categorias**, sendo as 3 primeiras contendo os tipos com os maiores valores percentuais e a 4º com as demais, para isso:"
   ]
  },
  {
   "cell_type": "code",
   "execution_count": 16,
   "id": "d778df46",
   "metadata": {},
   "outputs": [
    {
     "name": "stdout",
     "output_type": "stream",
     "text": [
      "{'COUNT': 757495, 'percentual': 8.248300866028307, 'type': 'others'}\n"
     ]
    }
   ],
   "source": [
    "# Agrupando os demais types em 'othes':\n",
    "\n",
    "others = {}\n",
    "others['COUNT'] = result_type_titles[result_type_titles['percentual'] < 5]['COUNT'].sum()\n",
    "others['percentual'] = result_type_titles[result_type_titles['percentual'] < 5]['percentual'].sum()\n",
    "others['type'] = 'others'\n",
    "print(others)"
   ]
  },
  {
   "cell_type": "code",
   "execution_count": 17,
   "id": "919f0bfb",
   "metadata": {},
   "outputs": [],
   "source": [
    "# Filtrando o dataframe de resultadotype_titles\n",
    "result_type_titles = result_type_titles[result_type_titles['percentual'] > 5]"
   ]
  },
  {
   "cell_type": "code",
   "execution_count": 18,
   "id": "2ff3e4e4",
   "metadata": {},
   "outputs": [],
   "source": [
    "# Realizando append com o dataframe others\n",
    "result_type_titles = result_type_titles.append(others, ignore_index = True)"
   ]
  },
  {
   "cell_type": "code",
   "execution_count": 19,
   "id": "55e1e414",
   "metadata": {},
   "outputs": [],
   "source": [
    "# Ordenando o resultado\n",
    "result_type_titles = result_type_titles.sort_values(by = 'COUNT', ascending = False)"
   ]
  },
  {
   "cell_type": "code",
   "execution_count": 20,
   "id": "e2cf9aef",
   "metadata": {},
   "outputs": [
    {
     "data": {
      "text/html": [
       "<div>\n",
       "<style scoped>\n",
       "    .dataframe tbody tr th:only-of-type {\n",
       "        vertical-align: middle;\n",
       "    }\n",
       "\n",
       "    .dataframe tbody tr th {\n",
       "        vertical-align: top;\n",
       "    }\n",
       "\n",
       "    .dataframe thead th {\n",
       "        text-align: right;\n",
       "    }\n",
       "</style>\n",
       "<table border=\"1\" class=\"dataframe\">\n",
       "  <thead>\n",
       "    <tr style=\"text-align: right;\">\n",
       "      <th></th>\n",
       "      <th>type</th>\n",
       "      <th>COUNT</th>\n",
       "      <th>percentual</th>\n",
       "    </tr>\n",
       "  </thead>\n",
       "  <tbody>\n",
       "    <tr>\n",
       "      <th>2</th>\n",
       "      <td>tvEpisode</td>\n",
       "      <td>6920413</td>\n",
       "      <td>75.355809</td>\n",
       "    </tr>\n",
       "    <tr>\n",
       "      <th>1</th>\n",
       "      <td>short</td>\n",
       "      <td>886148</td>\n",
       "      <td>9.649193</td>\n",
       "    </tr>\n",
       "    <tr>\n",
       "      <th>3</th>\n",
       "      <td>others</td>\n",
       "      <td>757495</td>\n",
       "      <td>8.248301</td>\n",
       "    </tr>\n",
       "    <tr>\n",
       "      <th>0</th>\n",
       "      <td>movie</td>\n",
       "      <td>619593</td>\n",
       "      <td>6.746697</td>\n",
       "    </tr>\n",
       "  </tbody>\n",
       "</table>\n",
       "</div>"
      ],
      "text/plain": [
       "        type    COUNT  percentual\n",
       "2  tvEpisode  6920413   75.355809\n",
       "1      short   886148    9.649193\n",
       "3     others   757495    8.248301\n",
       "0      movie   619593    6.746697"
      ]
     },
     "execution_count": 20,
     "metadata": {},
     "output_type": "execute_result"
    }
   ],
   "source": [
    "# Visualizando o resultado\n",
    "result_type_titles.head()"
   ]
  },
  {
   "cell_type": "code",
   "execution_count": 22,
   "id": "ec7b4a14",
   "metadata": {},
   "outputs": [
    {
     "data": {
      "image/png": "[encoded data removed]",
      "text/plain": [
       "<Figure size 432x288 with 1 Axes>"
      ]
     },
     "metadata": {},
     "output_type": "display_data"
    }
   ],
   "source": [
    "# Criando o gráfico:\n",
    "\n",
    "# Ajuste dos labels\n",
    "labels = [str(result_type_titles['type'][i])+' '+'['+str(round(result_type_titles['percentual'][i],2)) +'%'+']' for i in result_type_titles.index]\n",
    "\n",
    "# Mapa de cores\n",
    "cs = cm.Set3(np.arange(100))\n",
    "\n",
    "# Cria a figura\n",
    "f = plt.figure()\n",
    "\n",
    "# Pie Plot\n",
    "plt.pie(result_type_titles['COUNT'], labeldistance = 1, radius = 3, colors = cs, wedgeprops = dict(width = 0.8))\n",
    "plt.legend(labels = labels, loc = 'center', prop = {'size':12})\n",
    "plt.title(\"Distribuição de Títulos\", loc = 'center', fontdict = {'fontsize':20,'fontweight':20})\n",
    "plt.show()"
   ]
  },
  {
   "cell_type": "markdown",
   "id": "ee0ad236",
   "metadata": {},
   "source": [
    "E com isso respondemos de forma clara que 75.36% dos registros no IMDB, até a presente data, são do tipo Episódio de TV."
   ]
  },
  {
   "cell_type": "markdown",
   "id": "199fe3da",
   "metadata": {},
   "source": [
    "#### 2- Qual o Gênero que possui mais títulos?\n",
    "\n",
    "Para responder a essa pergunta, vamos calcular o número de filmes por gênero e entregar o resultado em formato percentual, assim como na pergunta anterior."
   ]
  },
  {
   "cell_type": "code",
   "execution_count": 23,
   "id": "d99208d6",
   "metadata": {},
   "outputs": [],
   "source": [
    "# Cria a consulta SQL\n",
    "query_genres_titles = '''SELECT genres, COUNT(*) FROM titles WHERE type = 'movie' GROUP BY genres'''"
   ]
  },
  {
   "cell_type": "code",
   "execution_count": 24,
   "id": "acb5b6a4",
   "metadata": {},
   "outputs": [
    {
     "data": {
      "text/html": [
       "<div>\n",
       "<style scoped>\n",
       "    .dataframe tbody tr th:only-of-type {\n",
       "        vertical-align: middle;\n",
       "    }\n",
       "\n",
       "    .dataframe tbody tr th {\n",
       "        vertical-align: top;\n",
       "    }\n",
       "\n",
       "    .dataframe thead th {\n",
       "        text-align: right;\n",
       "    }\n",
       "</style>\n",
       "<table border=\"1\" class=\"dataframe\">\n",
       "  <thead>\n",
       "    <tr style=\"text-align: right;\">\n",
       "      <th></th>\n",
       "      <th>genres</th>\n",
       "      <th>COUNT(*)</th>\n",
       "    </tr>\n",
       "  </thead>\n",
       "  <tbody>\n",
       "    <tr>\n",
       "      <th>0</th>\n",
       "      <td>Action</td>\n",
       "      <td>14168</td>\n",
       "    </tr>\n",
       "    <tr>\n",
       "      <th>1</th>\n",
       "      <td>Action,Adult</td>\n",
       "      <td>11</td>\n",
       "    </tr>\n",
       "    <tr>\n",
       "      <th>2</th>\n",
       "      <td>Action,Adult,Adventure</td>\n",
       "      <td>2</td>\n",
       "    </tr>\n",
       "    <tr>\n",
       "      <th>3</th>\n",
       "      <td>Action,Adult,Comedy</td>\n",
       "      <td>6</td>\n",
       "    </tr>\n",
       "    <tr>\n",
       "      <th>4</th>\n",
       "      <td>Action,Adult,Crime</td>\n",
       "      <td>9</td>\n",
       "    </tr>\n",
       "    <tr>\n",
       "      <th>...</th>\n",
       "      <td>...</td>\n",
       "      <td>...</td>\n",
       "    </tr>\n",
       "    <tr>\n",
       "      <th>1460</th>\n",
       "      <td>Thriller,Western</td>\n",
       "      <td>43</td>\n",
       "    </tr>\n",
       "    <tr>\n",
       "      <th>1461</th>\n",
       "      <td>War</td>\n",
       "      <td>1315</td>\n",
       "    </tr>\n",
       "    <tr>\n",
       "      <th>1462</th>\n",
       "      <td>War,Western</td>\n",
       "      <td>14</td>\n",
       "    </tr>\n",
       "    <tr>\n",
       "      <th>1463</th>\n",
       "      <td>Western</td>\n",
       "      <td>5143</td>\n",
       "    </tr>\n",
       "    <tr>\n",
       "      <th>1464</th>\n",
       "      <td>\\N</td>\n",
       "      <td>71715</td>\n",
       "    </tr>\n",
       "  </tbody>\n",
       "</table>\n",
       "<p>1465 rows × 2 columns</p>\n",
       "</div>"
      ],
      "text/plain": [
       "                      genres  COUNT(*)\n",
       "0                     Action     14168\n",
       "1               Action,Adult        11\n",
       "2     Action,Adult,Adventure         2\n",
       "3        Action,Adult,Comedy         6\n",
       "4         Action,Adult,Crime         9\n",
       "...                      ...       ...\n",
       "1460        Thriller,Western        43\n",
       "1461                     War      1315\n",
       "1462             War,Western        14\n",
       "1463                 Western      5143\n",
       "1464                      \\N     71715\n",
       "\n",
       "[1465 rows x 2 columns]"
      ]
     },
     "metadata": {},
     "output_type": "display_data"
    }
   ],
   "source": [
    "# Extrai o resultado e visualiza\n",
    "result_genres_titles = pd.read_sql_query(query_genres_titles, conn)\n",
    "display(result_genres_titles)"
   ]
  },
  {
   "cell_type": "markdown",
   "id": "20107812",
   "metadata": {},
   "source": [
    "Como no banco de dados existem títulos que possuem mais de um gênero, acaba gerando essa grande quantidade de registros, e o \\N indica que possuem 426970 títulos sem essa especificação, então, precisamos agrupar e tratar os dados por gênero único para conseguir definir os que aparecem mais. para isso:"
   ]
  },
  {
   "cell_type": "code",
   "execution_count": 25,
   "id": "7028bd96",
   "metadata": {},
   "outputs": [],
   "source": [
    "# converter a string para minúsculo\n",
    "result_genres_titles['genres'] = result_genres_titles['genres'].str.lower().values"
   ]
  },
  {
   "cell_type": "code",
   "execution_count": 26,
   "id": "30ef64c1",
   "metadata": {},
   "outputs": [],
   "source": [
    "# Dropar células com valores Null's (ausentes):\n",
    "temp = result_genres_titles['genres'].dropna()"
   ]
  },
  {
   "cell_type": "markdown",
   "id": "b4259cc0",
   "metadata": {},
   "source": [
    "No próximo passo usarei o Countvectorizer, que é uma ferramenta de MachineLearning do pacote feature_extraction.text do sklearn, para converter a coluna de gêneros em um vetor one-hot encoded para contar o número de filmes em cada gênero, criando uma matriz esparsa que permitirá a contagem de cada gênero aplicando uma vetorização desse vetor one-hot encoded."
   ]
  },
  {
   "cell_type": "code",
   "execution_count": 27,
   "id": "52a24a8a",
   "metadata": {},
   "outputs": [],
   "source": [
    "# Vamos criar um vetor usando expressão regular para filtrar as strings\n",
    "\n",
    "# https://docs.python.org/3.8/library/re.html\n",
    "padrao = '(?u)\\\\b[\\\\w-]+\\\\b'\n",
    "\n",
    "# https://scikit-learn.org/stable/modules/generated/sklearn.feature_extraction.text.CountVectorizer.html\n",
    "vetor = CountVectorizer(token_pattern = padrao, analyzer = 'word').fit(temp)"
   ]
  },
  {
   "cell_type": "code",
   "execution_count": 28,
   "id": "3016b532",
   "metadata": {},
   "outputs": [
    {
     "data": {
      "text/plain": [
       "sklearn.feature_extraction.text.CountVectorizer"
      ]
     },
     "execution_count": 28,
     "metadata": {},
     "output_type": "execute_result"
    }
   ],
   "source": [
    "# Conferindo o tipo\n",
    "type(vetor)"
   ]
  },
  {
   "cell_type": "code",
   "execution_count": 29,
   "id": "2cdf9cbb",
   "metadata": {},
   "outputs": [
    {
     "data": {
      "text/plain": [
       "scipy.sparse.csr.csr_matrix"
      ]
     },
     "execution_count": 29,
     "metadata": {},
     "output_type": "execute_result"
    }
   ],
   "source": [
    "# Aplicando a vetorização ao dataset sem valores NA\n",
    "bag_genres = vetor.transform(temp)\n",
    "type(bag_genres)"
   ]
  },
  {
   "cell_type": "code",
   "execution_count": 30,
   "id": "53791145",
   "metadata": {},
   "outputs": [
    {
     "name": "stdout",
     "output_type": "stream",
     "text": [
      "<class 'pandas.core.frame.DataFrame'>\n",
      "Int64Index: 1465 entries, 0 to 1464\n",
      "Data columns (total 29 columns):\n",
      " #   Column       Non-Null Count  Dtype\n",
      "---  ------       --------------  -----\n",
      " 0   action       1465 non-null   int64\n",
      " 1   adult        1465 non-null   int64\n",
      " 2   adventure    1465 non-null   int64\n",
      " 3   animation    1465 non-null   int64\n",
      " 4   biography    1465 non-null   int64\n",
      " 5   comedy       1465 non-null   int64\n",
      " 6   crime        1465 non-null   int64\n",
      " 7   documentary  1465 non-null   int64\n",
      " 8   drama        1465 non-null   int64\n",
      " 9   family       1465 non-null   int64\n",
      " 10  fantasy      1465 non-null   int64\n",
      " 11  film-noir    1465 non-null   int64\n",
      " 12  game-show    1465 non-null   int64\n",
      " 13  history      1465 non-null   int64\n",
      " 14  horror       1465 non-null   int64\n",
      " 15  music        1465 non-null   int64\n",
      " 16  musical      1465 non-null   int64\n",
      " 17  mystery      1465 non-null   int64\n",
      " 18  n            1465 non-null   int64\n",
      " 19  news         1465 non-null   int64\n",
      " 20  reality-tv   1465 non-null   int64\n",
      " 21  romance      1465 non-null   int64\n",
      " 22  sci-fi       1465 non-null   int64\n",
      " 23  short        1465 non-null   int64\n",
      " 24  sport        1465 non-null   int64\n",
      " 25  talk-show    1465 non-null   int64\n",
      " 26  thriller     1465 non-null   int64\n",
      " 27  war          1465 non-null   int64\n",
      " 28  western      1465 non-null   int64\n",
      "dtypes: int64(29)\n",
      "memory usage: 343.4 KB\n"
     ]
    }
   ],
   "source": [
    "# Retornando com os valores únicos\n",
    "genres_uni = vetor.get_feature_names()\n",
    "\n",
    "# Cria o dataframe de gêneros\n",
    "genres = pd.DataFrame(bag_genres.todense(), columns = genres_uni, index = temp.index)\n",
    "\n",
    "# Vizualizando o resultado\n",
    "genres.info()"
   ]
  },
  {
   "cell_type": "markdown",
   "id": "fa4eae0e",
   "metadata": {},
   "source": [
    "Criamos uma tabela \"n\" que não deveria existir para o nosso modelo, iremos realizar a exclusão desse dado pois não tem utilidade para nós."
   ]
  },
  {
   "cell_type": "code",
   "execution_count": 31,
   "id": "ce7537b2",
   "metadata": {},
   "outputs": [],
   "source": [
    "# Dropando 'n' da tabela\n",
    "genres = genres.drop(columns= 'n', axis = 0)"
   ]
  },
  {
   "cell_type": "code",
   "execution_count": 32,
   "id": "d616b32d",
   "metadata": {},
   "outputs": [
    {
     "data": {
      "text/plain": [
       "drama          263\n",
       "comedy         249\n",
       "documentary    233\n",
       "adventure      217\n",
       "action         211\n",
       "romance        195\n",
       "crime          191\n",
       "mystery        182\n",
       "thriller       180\n",
       "horror         180\n",
       "fantasy        177\n",
       "history        168\n",
       "sci-fi         165\n",
       "family         164\n",
       "animation      158\n",
       "music          158\n",
       "biography      156\n",
       "musical        151\n",
       "war            135\n",
       "western        128\n",
       "sport          121\n",
       "adult           90\n",
       "reality-tv      50\n",
       "news            48\n",
       "film-noir       37\n",
       "short           23\n",
       "talk-show       19\n",
       "game-show       11\n",
       "dtype: int64"
      ]
     },
     "execution_count": 32,
     "metadata": {},
     "output_type": "execute_result"
    }
   ],
   "source": [
    "# Gera uma contagem de todos os generos\n",
    "genres_serie = pd.Series(genres.sum().sort_values(ascending= False))\n",
    "genres_serie"
   ]
  },
  {
   "cell_type": "code",
   "execution_count": 33,
   "id": "3b5a8240",
   "metadata": {},
   "outputs": [],
   "source": [
    "# Transformando em porcentagem\n",
    "genres_percent = (genres_serie /  len(genres)) * 100"
   ]
  },
  {
   "cell_type": "code",
   "execution_count": 34,
   "id": "48aaa11a",
   "metadata": {},
   "outputs": [
    {
     "data": {
      "text/plain": [
       "drama          17.952218\n",
       "comedy         16.996587\n",
       "documentary    15.904437\n",
       "adventure      14.812287\n",
       "action         14.402730\n",
       "romance        13.310580\n",
       "crime          13.037543\n",
       "mystery        12.423208\n",
       "thriller       12.286689\n",
       "horror         12.286689\n",
       "dtype: float64"
      ]
     },
     "execution_count": 34,
     "metadata": {},
     "output_type": "execute_result"
    }
   ],
   "source": [
    "genres_percent.head(10)"
   ]
  },
  {
   "cell_type": "code",
   "execution_count": 35,
   "id": "27f8cece",
   "metadata": {},
   "outputs": [
    {
     "data": {
      "image/png": "[encoded data removed]",
      "text/plain": [
       "<Figure size 1152x576 with 1 Axes>"
      ]
     },
     "metadata": {},
     "output_type": "display_data"
    }
   ],
   "source": [
    "# Plotando isso em um gráfico\n",
    "plt.figure(figsize = (16,8))\n",
    "sns.barplot(x = genres_percent.values, y = genres_percent.index, orient = \"h\", palette = \"terrain\")\n",
    "plt.ylabel('Gênero')             \n",
    "plt.xlabel(\"\\nPercentual de Filmes (%)\")\n",
    "plt.title('\\nNúmero (Percentual) de Títulos Por Gênero\\n')\n",
    "plt.show()"
   ]
  },
  {
   "cell_type": "markdown",
   "id": "e1699c16",
   "metadata": {},
   "source": [
    "Com base no gráfico gerado, dentre os que foram informados o gênero, o que possui mais títulos até a presente data é o **drama**, abrangendo hoje o aproximadamente 17.95% do total, seguido por **comédia** com 17% e **documentários** com 15.9% fechando nosso top 3 e o gênero com menor número de títulos é o **game-show** com menos de 1%."
   ]
  },
  {
   "cell_type": "markdown",
   "id": "df4f410b",
   "metadata": {},
   "source": [
    "#### 3- Qual a Mediana de Avaliação dos Filmes Por Gênero?\n",
    "\n",
    "A mediana é o valor central de uma distribuição, também chamada de ponto médio. Para responder a essa pergunta precisaremos utilizar as tabelas de títulos e de avaliação e descobrir qual a mediana de avaliação, vamos lá!"
   ]
  },
  {
   "cell_type": "code",
   "execution_count": null,
   "id": "8dfa0ba1",
   "metadata": {},
   "outputs": [],
   "source": [
    "# Acesssando Bancos de Dados\n",
    "query_rating_genres = '''\n",
    "                        SELECT rating, geners FROM \n",
    "                        ratings JOIN titles ON ratings.title_id = title.title_id\n",
    "                        WHERE premiered <= 2022 AND type 'move'\n",
    "                        '''"
   ]
  },
  {
   "cell_type": "code",
   "execution_count": null,
   "id": "6645bc7a",
   "metadata": {},
   "outputs": [],
   "source": []
  },
  {
   "cell_type": "code",
   "execution_count": null,
   "id": "3d3a9581",
   "metadata": {},
   "outputs": [],
   "source": []
  }
 ],
 "metadata": {
  "kernelspec": {
   "display_name": "Python 3 (ipykernel)",
   "language": "python",
   "name": "python3"
  },
  "language_info": {
   "codemirror_mode": {
    "name": "ipython",
    "version": 3
   },
   "file_extension": ".py",
   "mimetype": "text/x-python",
   "name": "python",
   "nbconvert_exporter": "python",
   "pygments_lexer": "ipython3",
   "version": "3.9.12"
  }
 },
 "nbformat": 4,
 "nbformat_minor": 5
}
